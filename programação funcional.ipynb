{
 "cells": [
  {
   "cell_type": "code",
   "execution_count": 12,
   "id": "479c76d3-c27c-4340-b821-7113536b6ce0",
   "metadata": {},
   "outputs": [
    {
     "name": "stdout",
     "output_type": "stream",
     "text": [
      "PROPOSTA DE ATIVIDADE - PROGRAMAÇÃO FUNCIONAL \n",
      "----------------------------------------------------------------------------------------------------------------------------------------------------------------------------------------|-----------------\n",
      "Aluno: Igor Souza Cruz - Matricula: 2325198\n",
      "Aluno: Lucas Araújo de Almeida - Matricula: 2325769\n"
     ]
    }
   ],
   "source": [
    "print(\"PROPOSTA DE ATIVIDADE - PROGRAMAÇÃO FUNCIONAL \")\n",
    "print(\"----------------------------------------------------------------------------------------------------------------------------------------------------------------------------------------|-----------------\")\n",
    "print(\"Aluno: Igor Souza Cruz - Matricula: 2325198\")\n",
    "print(\"Aluno: Lucas Araújo de Almeida - Matricula: 2325769\")"
   ]
  },
  {
   "cell_type": "code",
   "execution_count": 3,
   "id": "f73e677c-7b0c-4263-9aaa-ba03a4308ead",
   "metadata": {},
   "outputs": [
    {
     "name": "stdout",
     "output_type": "stream",
     "text": [
      "\n",
      "Critérios a serem avaliados:\n",
      "● Definição de papéis no documento de requisitos (0,4 pts).\n",
      "● Documento com os Requisitos (diferenciando funcionais e não-funcionais) e identificação de como os requisitos estão codificados (1 pt).\n",
      "● Código implementado e compilável: (1 pt).\n",
      "● Casos de testes (1 pt).\n",
      "● Utilização no código-fonte dos conceitos de Programação Funcional [indicando, no\n",
      "  documento de requisitos, onde estas construções funcionais estão sendo usadas] (1,6 pts).\n",
      "  o Criar ao menos uma função lambda: (0,4)\n",
      "  o Criar ao menos uma list comprehension: (0,4).\n",
      "  o Criar ao menos uma closure em alguma função: (0,4).\n",
      "  o Criar ao menos uma função de alta ordem: (0,4).\n",
      "\n",
      "Esta atividade envolve a criação de um sistema de gerenciamento de tarefas utilizando conceitos de Programação Funcional.\n",
      "O código define uma lista para armazenar tarefas e várias funções para manipular essa lista.\n",
      "As funções incluem adicionar uma tarefa, marcar uma tarefa como concluída, listar todas as tarefas,\n",
      "aplicar uma função a todas as tarefas e formatar o status das tarefas usando closures.\n",
      "\n"
     ]
    }
   ],
   "source": [
    "print(\"\"\"\n",
    "Critérios a serem avaliados:\n",
    "● Definição de papéis no documento de requisitos (0,4 pts).\n",
    "● Documento com os Requisitos (diferenciando funcionais e não-funcionais) e identificação de como os requisitos estão codificados (1 pt).\n",
    "● Código implementado e compilável: (1 pt).\n",
    "● Casos de testes (1 pt).\n",
    "● Utilização no código-fonte dos conceitos de Programação Funcional [indicando, no\n",
    "  documento de requisitos, onde estas construções funcionais estão sendo usadas] (1,6 pts).\n",
    "  o Criar ao menos uma função lambda: (0,4)\n",
    "  o Criar ao menos uma list comprehension: (0,4).\n",
    "  o Criar ao menos uma closure em alguma função: (0,4).\n",
    "  o Criar ao menos uma função de alta ordem: (0,4).\n",
    "\n",
    "Esta atividade envolve a criação de um sistema de gerenciamento de tarefas utilizando conceitos de Programação Funcional.\n",
    "O código define uma lista para armazenar tarefas e várias funções para manipular essa lista.\n",
    "As funções incluem adicionar uma tarefa, marcar uma tarefa como concluída, listar todas as tarefas,\n",
    "aplicar uma função a todas as tarefas e formatar o status das tarefas usando closures.\n",
    "\"\"\")"
   ]
  },
  {
   "cell_type": "code",
   "execution_count": 13,
   "id": "c928bc94-9102-4935-83b8-ee4b72ef5f94",
   "metadata": {},
   "outputs": [],
   "source": [
    "# Lista para armazenar as tarefas\n",
    "tarefas = []\n",
    "\n",
    "# Mapeamento de status\n",
    "status_map = {True: 'Concluída', False: 'Continua na próxima sprint'}\n",
    "\n",
    "# Função lambda para adicionar uma tarefa (descricao:string, finalizada:boolean)\n",
    "adicionar_tarefa = lambda descricao: tarefas.append({\"descricao\": descricao, \"finalizada\": False})\n",
    "\n",
    "# Função adicionar_tarefa é usada dentro da list comprehension, demonstrando esse conceito.\n",
    "def adicionar_tarefas_em_lista(lista):\n",
    "    if len(lista) > 0:\n",
    "        [adicionar_tarefa(tarefa) for tarefa in lista]\n",
    "\n",
    "# Função para listar todas as descrições das tarefas usando uma list comprehension\n",
    "def listar_tarefas():\n",
    "    return [tarefa[\"descricao\"] for tarefa in tarefas]\n",
    "\n",
    "# Função para listar todas as tarefas não finalizadas usando filter e lambda\n",
    "def listar_tarefas_nao_finalizadas():\n",
    "    return list(filter(lambda tarefa: not tarefa[\"finalizada\"], tarefas))\n",
    "\n",
    "# Função para marcar uma tarefa como concluída\n",
    "def finalizar_tarefa(index):\n",
    "    if 0 <= index < len(tarefas):\n",
    "        tarefas[index][\"finalizada\"] = True\n",
    "    else:\n",
    "        print(\"Índice inválido\")\n",
    "\n",
    "# Função de alta ordem para aplicar uma função a todas as tarefas\n",
    "def aplicar_em_todas_tarefas(func, tarefas):\n",
    "    return [func(tarefa) for tarefa in tarefas]\n",
    "\n",
    "# Exemplo de uso de closure para formatar o status das tarefas\n",
    "def tarefa_status_formatador(status_map):\n",
    "    def formatador(tarefa):\n",
    "        return f\"{tarefa['descricao']} - {status_map[tarefa['finalizada']]}\"\n",
    "    return formatador\n"
   ]
  },
  {
   "cell_type": "code",
   "execution_count": 14,
   "id": "4a91441f-a6c3-4d77-a0cd-6d7b062238fa",
   "metadata": {},
   "outputs": [
    {
     "name": "stdout",
     "output_type": "stream",
     "text": [
      "Tarefas criadas: ['Corrigir erro A', 'Corrigir erro B', 'Melhoria em C', 'Melhoria em D']\n"
     ]
    }
   ],
   "source": [
    "\n",
    "# Adicionando tarefas ao array TAREFAS. O mesmo vai ser manipulado nas proximas etapas. De forma singular e como lista. \n",
    "# Ao adicionar é gerado um dicionario com descricao e status finalizado  {\"descricao\": descricao, \"finalizada\": False}\n",
    "adicionar_tarefa(\"Corrigir erro A\")\n",
    "adicionar_tarefas_em_lista([\"Corrigir erro B\", \"Melhoria em C\", \"Melhoria em D\"])\n",
    "print(\"Tarefas criadas:\", listar_tarefas())\n"
   ]
  },
  {
   "cell_type": "code",
   "execution_count": 15,
   "id": "4d026143-21d3-40d8-b1c3-20417d63e6da",
   "metadata": {},
   "outputs": [
    {
     "name": "stdout",
     "output_type": "stream",
     "text": [
      "Tarefas: [{'descricao': 'Corrigir erro A', 'finalizada': True}, {'descricao': 'Corrigir erro B', 'finalizada': False}, {'descricao': 'Melhoria em C', 'finalizada': False}, {'descricao': 'Melhoria em D', 'finalizada': True}]\n",
      "---------------------------------------------------------------------------------------------------------------------------------------------------------------------------------------------------------\n",
      "Tarefas nao finalizadas: [{'descricao': 'Corrigir erro B', 'finalizada': False}, {'descricao': 'Melhoria em C', 'finalizada': False}]\n"
     ]
    }
   ],
   "source": [
    "# Finalizando duas atividades a da primeira e da ultima posicao \n",
    "\n",
    "finalizar_tarefa(0)\n",
    "finalizar_tarefa(len(tarefas) - 1)\n",
    "print(\"Tarefas:\", tarefas)\n",
    "print(\"---------------------------------------------------------------------------------------------------------------------------------------------------------------------------------------------------------\")\n",
    "# Exibindo somente as tarefas nao finalizadas\n",
    "print(\"Tarefas nao finalizadas:\", listar_tarefas_nao_finalizadas())\n"
   ]
  },
  {
   "cell_type": "code",
   "execution_count": 17,
   "id": "2b9ec224-5788-42e4-9fc8-e627ffbf06f6",
   "metadata": {},
   "outputs": [
    {
     "name": "stdout",
     "output_type": "stream",
     "text": [
      "Todas tarefas formatadas: ['Corrigir erro A - Concluída', 'Corrigir erro B - Continua na próxima sprint', 'Melhoria em C - Continua na próxima sprint', 'Melhoria em D - Concluída']\n",
      "---------------------------------------------------------------------------------------------------------------------------------------------------------------------------------------------------------\n",
      "Todas tarefas nao finalizadas e formatadas: ['Corrigir erro B - Continua na próxima sprint', 'Melhoria em C - Continua na próxima sprint']\n"
     ]
    }
   ],
   "source": [
    "# Usando a closure com o mapeamento de status\n",
    "formatador = tarefa_status_formatador(status_map)\n",
    "\n",
    "# Usando função de alta ordem para aplicar a função de formatacao a todas as tarefas\n",
    "todas_tarefas_formatadas = aplicar_em_todas_tarefas(formatador,tarefas)\n",
    "print(\"Todas tarefas formatadas:\", todas_tarefas_formatadas)\n",
    "print(\"---------------------------------------------------------------------------------------------------------------------------------------------------------------------------------------------------------\")\n",
    "\n",
    "# Usando função de alta ordem para aplicar a função de formatacao a todas as tarefas nao finalizadas\n",
    "todas_tarefas_formatadas = aplicar_em_todas_tarefas(formatador,listar_tarefas_nao_finalizadas())\n",
    "print(\"Todas tarefas nao finalizadas e formatadas:\", todas_tarefas_formatadas)\n"
   ]
  },
  {
   "cell_type": "code",
   "execution_count": null,
   "id": "8093cdb9-4560-4561-b8dd-95572c01ac56",
   "metadata": {},
   "outputs": [],
   "source": []
  }
 ],
 "metadata": {
  "kernelspec": {
   "display_name": "Python [conda env:base] *",
   "language": "python",
   "name": "conda-base-py"
  },
  "language_info": {
   "codemirror_mode": {
    "name": "ipython",
    "version": 3
   },
   "file_extension": ".py",
   "mimetype": "text/x-python",
   "name": "python",
   "nbconvert_exporter": "python",
   "pygments_lexer": "ipython3",
   "version": "3.12.7"
  }
 },
 "nbformat": 4,
 "nbformat_minor": 5
}
